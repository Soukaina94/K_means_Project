{
 "cells": [
  {
   "cell_type": "code",
   "execution_count": 8,
   "metadata": {},
   "outputs": [],
   "source": [
    "####Instantiation clien Spark session \n",
    "##importing spark to python \n",
    "import pandas as pd\n",
    "import findspark\n",
    "findspark.init()\n",
    "findspark.find()\n",
    "import pyspark\n",
    "findspark.find()\n",
    "### importing sparkContext\n",
    "from pyspark import SparkContext\n",
    "###Creating spark session \n",
    "from pyspark.sql import SparkSession        \n",
    "###initializing SparkSession\n",
    "spark=SparkSession.builder.master(\"local[3]\").appName(\"my_Kmeans_Clustering\").getOrCreate()\n",
    "import configparser"
   ]
  },
  {
   "cell_type": "code",
   "execution_count": 10,
   "metadata": {},
   "outputs": [
    {
     "ename": "SyntaxError",
     "evalue": "can't assign to operator (<ipython-input-10-3f67f149081f>, line 3)",
     "output_type": "error",
     "traceback": [
      "\u001b[1;36m  File \u001b[1;32m\"<ipython-input-10-3f67f149081f>\"\u001b[1;36m, line \u001b[1;32m3\u001b[0m\n\u001b[1;33m    path-to-input-data= config['Bristol-City-bike']['Input-data']\u001b[0m\n\u001b[1;37m                                                                 ^\u001b[0m\n\u001b[1;31mSyntaxError\u001b[0m\u001b[1;31m:\u001b[0m can't assign to operator\n"
     ]
    }
   ],
   "source": [
    "\n",
    "config = configparser.ConfigParser()\n",
    "config.read(\"properties.conf\")\n",
    "path-to-input-data= config['Bristol-City-bike']['Input-data']\n",
    "path-to-output-data= config['Bristol-City-bike']['Output-data']\n",
    "num-partition-kmeans = config['Bristol-City-bike'][Kmeans-level] \n"
   ]
  },
  {
   "cell_type": "code",
   "execution_count": null,
   "metadata": {},
   "outputs": [],
   "source": []
  }
 ],
 "metadata": {
  "kernelspec": {
   "display_name": "Python 3",
   "language": "python",
   "name": "python3"
  },
  "language_info": {
   "codemirror_mode": {
    "name": "ipython",
    "version": 3
   },
   "file_extension": ".py",
   "mimetype": "text/x-python",
   "name": "python",
   "nbconvert_exporter": "python",
   "pygments_lexer": "ipython3",
   "version": "3.7.3"
  }
 },
 "nbformat": 4,
 "nbformat_minor": 2
}
